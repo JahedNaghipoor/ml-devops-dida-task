{
 "cells": [
  {
   "cell_type": "code",
   "execution_count": 9,
   "metadata": {},
   "outputs": [
    {
     "name": "stderr",
     "output_type": "stream",
     "text": [
      "/Users/jaheed.naghipoor/Projects/ml-devops-dida-task/.venv/lib/python3.9/site-packages/tqdm/auto.py:21: TqdmWarning: IProgress not found. Please update jupyter and ipywidgets. See https://ipywidgets.readthedocs.io/en/stable/user_install.html\n",
      "  from .autonotebook import tqdm as notebook_tqdm\n"
     ]
    }
   ],
   "source": [
    "from ml_devops_dida_task.Train import train"
   ]
  },
  {
   "cell_type": "code",
   "execution_count": 10,
   "metadata": {},
   "outputs": [
    {
     "name": "stderr",
     "output_type": "stream",
     "text": [
      "2024/03/10 08:45:03 INFO mlflow.tracking.fluent: Experiment with name 'ZeroShotClassifier' does not exist. Creating a new experiment.\n"
     ]
    }
   ],
   "source": [
    "classifier = train.FewShotTextClassifier(run_name=\"facebook_bart\", model_name=\"facebook/bart-large-mnli\", mlflow_experiment_name=\"ZeroShotClassifier\")\n"
   ]
  },
  {
   "cell_type": "code",
   "execution_count": 11,
   "metadata": {},
   "outputs": [
    {
     "name": "stderr",
     "output_type": "stream",
     "text": [
      "2024/03/10 08:45:41 WARNING mlflow.utils.autologging_utils: You are using an unsupported version of pytorch. If you encounter errors during autologging, try upgrading / downgrading pytorch to a supported version, or try upgrading MLflow.\n",
      "Successfully registered model 'facebook_bart'.\n",
      "Created version '1' of model 'facebook_bart'.\n"
     ]
    }
   ],
   "source": [
    "classifier.train_and_register_model()"
   ]
  },
  {
   "cell_type": "code",
   "execution_count": 17,
   "metadata": {},
   "outputs": [
    {
     "name": "stdout",
     "output_type": "stream",
     "text": [
      "Text: The sun is shining, and the weather is perfect for a picnic - Result: Happy\n",
      "Text: I failed an important exam, and I feel like I let everyone down. - Result: Sad\n",
      "Text: I just found out I aced my exams! - Result: Happy\n",
      "Text: I had a fight with my best friend, and now we're not speaking to each other. - Result: Sad\n"
     ]
    }
   ],
   "source": [
    "labels = [\"Happy\", \"Sad\"]\n",
    "texts=[\"The sun is shining, and the weather is perfect for a picnic\",\n",
    "       \"I failed an important exam, and I feel like I let everyone down.\",\n",
    "       \"I just found out I aced my exams!\",\n",
    "       \"I had a fight with my best friend, and now we're not speaking to each other.\"]\n",
    "for text in texts:\n",
    "    prediction = classifier.classify(text, labels)\n",
    "    print(f\"Text: {text} - Result: {prediction}\")"
   ]
  },
  {
   "cell_type": "code",
   "execution_count": null,
   "metadata": {},
   "outputs": [],
   "source": []
  }
 ],
 "metadata": {
  "kernelspec": {
   "display_name": "base",
   "language": "python",
   "name": "python3"
  },
  "language_info": {
   "codemirror_mode": {
    "name": "ipython",
    "version": 3
   },
   "file_extension": ".py",
   "mimetype": "text/x-python",
   "name": "python",
   "nbconvert_exporter": "python",
   "pygments_lexer": "ipython3",
   "version": "3.9.6"
  }
 },
 "nbformat": 4,
 "nbformat_minor": 2
}
